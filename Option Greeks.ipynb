{
 "cells": [
  {
   "cell_type": "markdown",
   "metadata": {},
   "source": [
    "# Option Greeks"
   ]
  },
  {
   "cell_type": "code",
   "execution_count": 3,
   "metadata": {},
   "outputs": [],
   "source": [
    "import numpy as np\n",
    "from scipy.stats import norm"
   ]
  },
  {
   "cell_type": "markdown",
   "metadata": {},
   "source": [
    "We will denote the distribution functions as follows:<br>\n",
    "$\\phi = $ Normal probability density function <br>\n",
    "$\\Phi = $ normal cumulative density function\n",
    "\n",
    "We define the following symbols:\n",
    "- $S$ = Stock Price<br>\n",
    "- $K$ = Strike price<br>\n",
    "- $t$ = Time to expiration (years)<br>\n",
    "- $r$ = Risk-free rate<br>\n",
    "- $\\sigma$ = Implied Volatility\n",
    "\n",
    "The Black Scholes model gives:\n",
    "- Call Price = $S\\Phi(d_1) -Ke^{-rt}\\Phi(d_2)$ <br>\n",
    "- Put Price = $-S\\Phi(-d_1) + Ke^{-rt}\\Phi(-d_2)$\n",
    "\n",
    "In the above equations, $d_1$ and $d_2$ are given respectively by,\n",
    "$$d_1 = \\frac{1}{\\sigma \\sqrt{t}} \\left[ \\ln\\left(\\frac{S}{K}\\right) + \\left(r + \\frac{\\sigma.^2}{2}\\right) t\\right],$$\n",
    "and\n",
    "$$d_2 = d_1 - \\sigma \\sqrt{t}.$$\n",
    "\n",
    "Functions that return the Black-Scholes price of an option and the values of $d_1$ and $d_2$ are given in the cell below."
   ]
  },
  {
   "cell_type": "code",
   "execution_count": 4,
   "metadata": {},
   "outputs": [],
   "source": [
    "#  Functions that return d_1, d_2 and call and put prices\n",
    "def d(sigma, S, K, r, t):\n",
    "    d1 = 1 / (sigma * np.sqrt(t)) * ( np.log(S/K) + (r + sigma**2/2) * t)\n",
    "    d2 = d1 - sigma * np.sqrt(t)\n",
    "    return d1, d2\n",
    "\n",
    "def call_price(sigma, S, K, r, t, d1, d2):\n",
    "    C = norm.cdf(d1) * S - norm.cdf(d2) * K * np.exp(-r * t)\n",
    "    return C\n",
    "\n",
    "def put_price(sigma, S, K, r, t, d1, d2):\n",
    "    P = -norm.cdf(-d1) * S + norm.cdf(-d2) * K * np.exp(-r * t)\n",
    "    return P"
   ]
  },
  {
   "cell_type": "markdown",
   "metadata": {},
   "source": [
    "The expressions for $\\Delta$, $\\Gamma$, and $\\Theta$ are:\n",
    "\n",
    "$$\\Delta_{\\mbox{call}} = \\Phi(d_1)$$\n",
    "$$\\Delta_{\\mbox{put}} = \\Phi(-d_1)$$\n",
    "\n",
    "Gamma is the same for both calls and puts,\n",
    "$$\\Gamma = Ke^{-et} \\frac{\\phi(d_2)}{S^2\\sigma\\sqrt{t}} $$\n",
    "\n",
    "For $\\Theta$ we have,\n",
    "$$\\Theta_{\\mbox{call}} = -\\frac{S\\sigma\\phi(d_1)}{2\\sqrt{t}} -rKe^{-rt}\\Phi(d_2)$$\n",
    "$$\\Theta_{\\mbox{put}} = -\\frac{S\\sigma\\phi(-d_1)}{2\\sqrt{t}} -rKe^{-rt}\\Phi(-d_2)$$"
   ]
  },
  {
   "cell_type": "code",
   "execution_count": 21,
   "metadata": {},
   "outputs": [],
   "source": [
    "#  Functions for Deltam Gamma, and  Theta\n",
    "def delta(d_1, contract_type):\n",
    "    if contract_type == 'c':\n",
    "        return norm.cdf(d1)\n",
    "    if contract_type == 'p':\n",
    "        return -norm.cdf(-d_1)\n",
    "    \n",
    "def gamma(d2, S, K, sigma, r, t):\n",
    "    return( K * np.exp(-r * t) * (norm.pdf(d2) / (S**2 * sigma * np.sqrt(t) ))) \n",
    "\n",
    "def theta(d1, d2, S, K, sigma, r, t, contract_type):\n",
    "    if contract_type == 'c':\n",
    "        theta = -S * sigma * norm.pdf(d1) / (2 * np.sqrt(t)) - r * K * np.exp(-r * t) * norm.cdf(d2)\n",
    "    if contract_type == 'p':\n",
    "        theta = -S * sigma * norm.pdf(-d1) / (2 * np.sqrt(t)) + r * K * np.exp(-r * t) * norm.cdf(-d2)\n",
    "\n",
    "    return theta\n",
    "\n",
    "def vega(sigma, S, K, r, t):\n",
    "    d1, d2 = d(sigma, S, K, r, t)\n",
    "    v = S * norm.pdf(d1) * np.sqrt(t)\n",
    "    return v"
   ]
  },
  {
   "cell_type": "code",
   "execution_count": 22,
   "metadata": {},
   "outputs": [
    {
     "name": "stdout",
     "output_type": "stream",
     "text": [
      "S =  819.42\n",
      "K =  1020\n",
      "r =  0.01\n",
      "t =  0.11506849315068493\n",
      "sigma =  0.6966\n"
     ]
    }
   ],
   "source": [
    "#  Using TSLA data from 5/9/2020 closing values\n",
    "S = 819.42; print('S = ', S)\n",
    "K = 1020; print('K = ', K)\n",
    "r = 0.01; print('r = ', r)\n",
    "t = 42 / 365; print('t = ', t)\n",
    "sigma = 0.6966; print('sigma = ', sigma)"
   ]
  },
  {
   "cell_type": "code",
   "execution_count": 23,
   "metadata": {},
   "outputs": [
    {
     "name": "stdout",
     "output_type": "stream",
     "text": [
      "d1 =  -0.8036087890894198\n",
      "d2 =  -1.0399076799209663\n"
     ]
    }
   ],
   "source": [
    "#  Calculate the values of d1 and d2 needed for other functions\n",
    "d1, d2 = d(sigma, S, K, r, t)\n",
    "print('d1 = ', d1)\n",
    "print('d2 = ', d2)"
   ]
  },
  {
   "cell_type": "code",
   "execution_count": 24,
   "metadata": {},
   "outputs": [
    {
     "name": "stdout",
     "output_type": "stream",
     "text": [
      "Call Delta =  0.21081147278433515\n",
      "Put Delta =  -0.7891885272156649\n"
     ]
    }
   ],
   "source": [
    "delta_call = delta(d1, 'c')\n",
    "delta_put = delta(d1, 'p')\n",
    "print('Call Delta = ', delta_call)\n",
    "print('Put Delta = ', delta_put)"
   ]
  },
  {
   "cell_type": "code",
   "execution_count": 25,
   "metadata": {},
   "outputs": [
    {
     "name": "stdout",
     "output_type": "stream",
     "text": [
      "Gamma =  0.0014918011547566806\n"
     ]
    }
   ],
   "source": [
    "print( 'Gamma = ', gamma(d2, S, K, sigma, r, t) )"
   ]
  },
  {
   "cell_type": "code",
   "execution_count": 26,
   "metadata": {},
   "outputs": [
    {
     "name": "stdout",
     "output_type": "stream",
     "text": [
      "819.42 1020 0.01 0.11506849315068493 0.6966 -0.8036087890894198 -1.0399076799209663\n",
      "-244.55062685827485\n",
      "Call Theta =  -67.00017174199311\n",
      "Put Thata =  -64.2088649573641\n"
     ]
    }
   ],
   "source": [
    "#####  Calculate Theta\n",
    "print(S, K, r, t, sigma, d1, d2)\n",
    "print( theta(d1, d2, S, K, sigma, r, t, 'c') )\n",
    "\n",
    "print( 'Call Theta = ', theta(d1, d2, S, K, sigma, r, t, 'c') / 365 * 100)\n",
    "print( 'Put Thata = ', theta(d1, d2, S, K, sigma, r, t, 'p') / 365 * 100)"
   ]
  },
  {
   "cell_type": "markdown",
   "metadata": {},
   "source": [
    "#  Discussion of Units\n",
    "Option price $\\rightarrow$ price per share<br>\n",
    "S $\\rightarrow$  price per share <br>\n",
    "K $\\rightarrow$  price per share <br>\n",
    "r $\\rightarrow$  per year<br>\n",
    "t $\\rightarrow$  Years<br>\n",
    "$\\sigma \\rightarrow$  per $\\sqrt{\\mbox{year}}$\n",
    "\n",
    "One contract = 100 shares"
   ]
  },
  {
   "cell_type": "markdown",
   "metadata": {},
   "source": [
    "## Example with $\\Theta$\n",
    "Fromthe Black Scholes model we see that $\\Theta$ has units of price per share per year,\n",
    "$$\\Theta == \\frac{\\partial V}{\\partial t}\\rightarrow \\left( \\frac{\\mbox{price}}{\\mbox{share}}\\right)\\left(\\frac{1}{\\mbox{years}}\\right)$$\n",
    "\n",
    "But the convention for most trading platforms is,\n",
    "$$\\left(\\frac{\\mbox{price}}{\\mbox{contract}}\\right)\\left(\\frac{1}{\\mbox{day}}\\right)$$\n",
    "\n",
    "We convert to price per contract per day by coming up with a conversion factor.\n",
    "$$\\left( \\frac{\\mbox{price}}{\\mbox{share}}\\right)\\left(\\frac{1}{\\mbox{years}}\\right) \\times\n",
    "\\left(\\frac{100\\mbox{shares}}{1\\mbox{contract}}\\right)\\left(\\frac{1\\mbox{year}}{365\\mbox{days}}\\right)$$"
   ]
  },
  {
   "cell_type": "code",
   "execution_count": 27,
   "metadata": {},
   "outputs": [],
   "source": [
    "S = 120.96\n",
    "K = 135\n",
    "r = 0.01\n",
    "t = 14 / 365\n",
    "sigma = 0.6427"
   ]
  },
  {
   "cell_type": "code",
   "execution_count": 28,
   "metadata": {},
   "outputs": [
    {
     "name": "stdout",
     "output_type": "stream",
     "text": [
      "-15.73578917740298\n"
     ]
    }
   ],
   "source": [
    "d1, d2 =  d(sigma, S, K, r, t)\n",
    "print( theta(d1, d2, S, K, sigma, r, t, 'c') * 100 / 365) "
   ]
  },
  {
   "cell_type": "markdown",
   "metadata": {},
   "source": [
    "## Example with vega ($\\nu$)\n",
    "\n",
    "Bega has units of,\n",
    "$$  \\mbox{vega} = \\frac{\\partial V}{\\partial \\sigma} \\rightarrow \\left(\\frac{\\mbox{price}}{\\mbox{share}}\\right)\\left(\\frac{1}{\\mbox{vol point}}\\right)$$\n",
    "\n",
    "The platform quotes vega in units of price per share per vol percentage point.  To do the conversion we do the following,\n",
    "$$  \\mbox{vega} = \\frac{\\partial V}{\\partial \\sigma} \\rightarrow \\left(\\frac{\\mbox{price}}{\\mbox{share}}\\right)\\left(\\frac{1}{\\mbox{vol point}}\\right)\n",
    "\\left(\\frac{1 \\mbox{vol point}}{100\\mbox{percentage points}}\\right)$$"
   ]
  },
  {
   "cell_type": "code",
   "execution_count": 29,
   "metadata": {},
   "outputs": [
    {
     "name": "stdout",
     "output_type": "stream",
     "text": [
      "0.06827204317718513\n"
     ]
    }
   ],
   "source": [
    "print( vega(sigma, S, K, r, t) /100 )"
   ]
  },
  {
   "cell_type": "code",
   "execution_count": null,
   "metadata": {},
   "outputs": [],
   "source": []
  }
 ],
 "metadata": {
  "kernelspec": {
   "display_name": "Python 3",
   "language": "python",
   "name": "python3"
  },
  "language_info": {
   "codemirror_mode": {
    "name": "ipython",
    "version": 3
   },
   "file_extension": ".py",
   "mimetype": "text/x-python",
   "name": "python",
   "nbconvert_exporter": "python",
   "pygments_lexer": "ipython3",
   "version": "3.8.3"
  }
 },
 "nbformat": 4,
 "nbformat_minor": 2
}
