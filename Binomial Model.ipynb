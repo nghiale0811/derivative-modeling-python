{
 "cells": [
  {
   "cell_type": "markdown",
   "metadata": {},
   "source": [
    "# Binomial Model"
   ]
  },
  {
   "cell_type": "code",
   "execution_count": 1,
   "metadata": {},
   "outputs": [],
   "source": [
    "import numpy as np\n",
    "import matplotlib.pyplot as plt\n",
    "from scipy.sparse import csc_matrix\n",
    "from scipy.stats import bernoulli\n",
    "from scipy.optimize import fsolve\n",
    "from scipy.stats import norm\n",
    "\n",
    "%matplotlib inline"
   ]
  },
  {
   "cell_type": "markdown",
   "metadata": {},
   "source": [
    "![Img](data:image/png;base64,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)\n",
    "\n",
    "First, we assume a stock moves up a factor of $u$ or down a factor $d$ with a probability of $p$ or $(1-p)$, respectively.  At expiration, we know the price of the option.  It is either 0 if out-of-the-money, or its intrinsic value if in-the-money.\n",
    "\n",
    "The price at the preceding node is then give by, \n",
    "$$C = e^{-rt}(pC_u + (1-p)C_d)$$\n",
    "\n",
    "If the tree has multiple layers as shown below, we can then repeat the above process to entirely fill out the tree."
   ]
  },
  {
   "cell_type": "code",
   "execution_count": 2,
   "metadata": {},
   "outputs": [
    {
     "name": "stdout",
     "output_type": "stream",
     "text": [
      "1.485074750623752\n"
     ]
    }
   ],
   "source": [
    "#  Manual process for simple two-step tree\n",
    "\n",
    "#  Our initial stock price\n",
    "S0 = 100\n",
    "\n",
    "#  Time to expiration in years\n",
    "t = 1\n",
    "\n",
    "#  Assumed up and down percentages\n",
    "u = 1.05\n",
    "d = 1/u\n",
    "\n",
    "#  Probability of an up move\n",
    "p = 0.6\n",
    "\n",
    "#  Stock price at expiration\n",
    "S_u = u * S0\n",
    "S_d = d * S0\n",
    "\n",
    "#  Option strike price and risk-free rate\n",
    "K = 102.5\n",
    "r = 0.01\n",
    "\n",
    "#  Call price at up node\n",
    "C_u = S_u - K\n",
    "\n",
    "#  Call price at down node\n",
    "C_d = 0\n",
    "\n",
    "#Print out the stock prices at expiration\n",
    "#print(S_u, S_d)\n",
    "\n",
    "#  Calculate and print the call price at t = 0\n",
    "C = np.exp(-r * t) * ( p*C_u + (1-p)*C_d)\n",
    "print(C)"
   ]
  },
  {
   "attachments": {},
   "cell_type": "markdown",
   "metadata": {},
   "source": [
    "A multi-level tree might look like:\n",
    "![Img](https://upload.wikimedia.org/wikipedia/commons/thumb/2/2e/Arbre_Binomial_Options_Reelles.png/500px-Arbre_Binomial_Options_Reelles.png)"
   ]
  },
  {
   "cell_type": "code",
   "execution_count": 3,
   "metadata": {},
   "outputs": [
    {
     "name": "stdout",
     "output_type": "stream",
     "text": [
      "15.28912682401203\n"
     ]
    }
   ],
   "source": [
    "#  Define the number of layers\n",
    "N = 50\n",
    "\n",
    "#  Time to expiration, the we rescale it to time per layer step\n",
    "t = 1\n",
    "t = t / (N - 1)\n",
    "\n",
    "#  Iniital stock price, strike price, and risk-free rate\n",
    "S0 = 100\n",
    "K = 102.5\n",
    "r = 0.01\n",
    "\n",
    "#  Assume a volatility and calculate the size of an up move, down move, and probability\n",
    "sigma = 0.4\n",
    "u = np.exp(sigma * np.sqrt(t))\n",
    "d = 1/u\n",
    "p = (np.exp(r * t) - d) / (u - d)\n",
    "\n",
    "#  Create some empty matrices to hold our stock and call prices.\n",
    "stock_prices = np.zeros( (N, N) )\n",
    "call_prices = np.zeros( (N, N) )\n",
    "\n",
    "#  Put our initial price in the matrix\n",
    "stock_prices[0,0] = S0\n",
    "\n",
    "#  Fill out the remaining values\n",
    "for i in range(1, N):\n",
    "    M = i + 1\n",
    "    stock_prices[i, 0] = d * stock_prices[i-1, 0]\n",
    "    for j in range(1, M):\n",
    "        stock_prices[i, j] = u * stock_prices[i - 1, j - 1]\n",
    " \n",
    "#  Calculate the call price at expiration.  if the call price is less than zero, it is out-of-the-money so we replace those values with zero.\n",
    "expiration = stock_prices[-1,:] - K\n",
    "expiration.shape = (expiration.size, )\n",
    "expiration = np.where(expiration >= 0, expiration, 0)\n",
    "\n",
    "#  Set the last row of the call matrix to our expiration values\n",
    "call_prices[-1,:] =  expiration\n",
    "\n",
    "#  Backpropagate to filll out our tree\n",
    "for i in range(N - 2,-1,-1):\n",
    "    for j in range(i + 1):\n",
    "        call_prices[i,j] = np.exp(-r * t) * ((1-p) * call_prices[i+1,j] + p * call_prices[i+1,j+1])\n",
    "\n",
    "#plt.spy(call_prices)\n",
    "print(call_prices[0,0])"
   ]
  },
  {
   "cell_type": "markdown",
   "metadata": {},
   "source": [
    "##  Implied Volatility Calculation\n",
    "\n",
    "Recall that we want to solve the model for $\\sigma$.  In other words, this is a root finding problem as we’ve discussed in the past.  We are solving a problem of the form,\n",
    "$$f(\\sigma) = 0.$$\n",
    "\n",
    "Specifically, the function $F$ is,\n",
    "$$\\mbox{Binomial}(\\sigma) - \\mbox{Actual Option Price} = 0$$\n",
    "\n",
    "We can cast the above equation as a Python function and solve it via Scipy's <i>fsolve</i> function.\n",
    "\n",
    "First, let's wrap the above model calculation in a function for ease of use.  Then we'll code up the objective function to be passed to fsolve."
   ]
  },
  {
   "cell_type": "code",
   "execution_count": 4,
   "metadata": {},
   "outputs": [],
   "source": [
    "def binomial(sigma, S, K, r, t, N, option_type = 'C'):\n",
    "    \n",
    "    t = 1; t = t / (N-1)\n",
    "\n",
    "    S0 = S\n",
    "\n",
    "    u =  np.exp(sigma * np.sqrt(t))\n",
    "    d = 1/u\n",
    "    p = (np.exp(r * t) - d) / (u - d)\n",
    "    \n",
    "    stock_prices  = np.zeros( (N, N) )\n",
    "    option_prices = np.zeros( (N, N) )\n",
    "\n",
    "    stock_prices[0, 0] = S0\n",
    "    \n",
    "    #  Fill out the remaining values\n",
    "    for i in range(1, N ):\n",
    "        M = i + 1\n",
    "        stock_prices[i, 0] = d * stock_prices[i-1, 0]\n",
    "        for j in range(1, M ):\n",
    "            stock_prices[i, j] = u * stock_prices[i - 1, j - 1]\n",
    " \n",
    "    #  Calculate the option price at expiration.  if the call price is less than zero, it is out-of-the-money so we replace those values with zero.\n",
    "    if option_type == 'C':\n",
    "        expiration = stock_prices[-1,:] - K\n",
    "    else:\n",
    "        expiration = K - stock_prices[-1,:]\n",
    "        \n",
    "    expiration.shape = (expiration.size, )\n",
    "    expiration = np.where(expiration >= 0, expiration, 0)\n",
    "\n",
    "    #  Set the last row of the call matrix to our expiration values\n",
    "    option_prices[-1,:] =  expiration\n",
    "\n",
    "    #  Backpropagate to filll out our tree\n",
    "    for i in range(N - 2,-1,-1):\n",
    "        for j in range(i + 1):\n",
    "            option_prices[i,j] = np.exp(-r * t) * ((1-p) * option_prices[i+1,j] + p * option_prices[i+1,j+1])\n",
    "\n",
    "    return option_prices[0,0]\n",
    "\n",
    "#  This is out objective function\n",
    "def objective(sigma, S, K, r, t, N, C0):\n",
    "    res = binomial(sigma, S, K, r, t, N) - C0\n",
    "    return res"
   ]
  },
  {
   "cell_type": "code",
   "execution_count": 5,
   "metadata": {},
   "outputs": [
    {
     "data": {
      "text/plain": [
       "array([0.40027884])"
      ]
     },
     "execution_count": 5,
     "metadata": {},
     "output_type": "execute_result"
    }
   ],
   "source": [
    "#  Parameters from above.\n",
    "N = 5\n",
    "t = 1\n",
    "S0 = 100\n",
    "K = 102.5\n",
    "r = 0.01\n",
    "\n",
    "#  We'll use the option price calculated above\n",
    "C0 = 14.72\n",
    "\n",
    "#  Wrap the addition arguments in a tuple\n",
    "args = (S0, K, r, t, N, C0)\n",
    "\n",
    "#  Solve the problem via fsolve\n",
    "fsolve(objective, 0.25, args = args)"
   ]
  },
  {
   "cell_type": "markdown",
   "metadata": {},
   "source": [
    "## Comparison with Black-Scholes\n",
    "\n",
    "We pull in the Black-Scholes model from a previous video and calculate the option price based on a 40% IV.\n",
    "\n",
    "The discrepancy in the option price from Black-Schole compared to the binomial model is the number of nodes used.  If we increase the number of nodes, the two models agree."
   ]
  },
  {
   "cell_type": "code",
   "execution_count": 6,
   "metadata": {},
   "outputs": [],
   "source": [
    "def call_price(sigma, S, K, r, t):\n",
    "    d1 = np.multiply( 1. / sigma * np.divide(1., np.sqrt(t)),\n",
    "        np.log(S/K) + (r + sigma**2 / 2.) * t  )\n",
    "    d2 = d1 - sigma * np.sqrt(t)\n",
    "    \n",
    "    C = np.multiply(S, norm.cdf(d1)) - \\\n",
    "        np.multiply(norm.cdf(d2) * K, np.exp(-r * t))\n",
    "    return C\n",
    "\n",
    "def put_price(sigma, S, K, r, t):\n",
    "    d1 = np.multiply( 1. / sigma * np.divide(1., np.sqrt(t)),\n",
    "        np.log(S/K) + (r + sigma**2 / 2.) * t  )\n",
    "    d2 = d1 - sigma * np.sqrt(t)\n",
    "    \n",
    "    P = -np.multiply(S, norm.cdf(-d1)) + \\\n",
    "        np.multiply(norm.cdf(-d2) * K, np.exp(-r * t))\n",
    "    return P"
   ]
  },
  {
   "cell_type": "code",
   "execution_count": 7,
   "metadata": {},
   "outputs": [
    {
     "data": {
      "text/plain": [
       "15.239829429316998"
      ]
     },
     "execution_count": 7,
     "metadata": {},
     "output_type": "execute_result"
    }
   ],
   "source": [
    "#  Calculate the call price\n",
    "call_price(0.40, S0, K, r, t)"
   ]
  },
  {
   "cell_type": "code",
   "execution_count": null,
   "metadata": {},
   "outputs": [],
   "source": []
  }
 ],
 "metadata": {
  "kernelspec": {
   "display_name": "Python 3",
   "language": "python",
   "name": "python3"
  },
  "language_info": {
   "codemirror_mode": {
    "name": "ipython",
    "version": 3
   },
   "file_extension": ".py",
   "mimetype": "text/x-python",
   "name": "python",
   "nbconvert_exporter": "python",
   "pygments_lexer": "ipython3",
   "version": "3.8.3"
  }
 },
 "nbformat": 4,
 "nbformat_minor": 4
}
