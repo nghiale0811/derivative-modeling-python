{
 "cells": [
  {
   "cell_type": "markdown",
   "metadata": {},
   "source": [
    "# Bachelier Model"
   ]
  },
  {
   "cell_type": "code",
   "execution_count": 2,
   "metadata": {},
   "outputs": [],
   "source": [
    "import numpy as np\n",
    "import matplotlib.pyplot as plt\n",
    "from scipy.stats import norm\n",
    "\n",
    "#  Symmpy\n",
    "from sympy import Symbol, diff, erf, sqrt, init_printing, ln, exp, diff, pi\n",
    "\n",
    "#  For printing nice Sympy results\n",
    "from IPython.display import display\n",
    "init_printing()\n",
    "\n",
    "%matplotlib inline"
   ]
  },
  {
   "cell_type": "markdown",
   "metadata": {},
   "source": [
    "##  Black Scholes Functions\n",
    "- Black Scholes call and put prices\n",
    "-  Objective functions for finding volatility\n",
    "- Function for vega, the derivative of option price with respect to volatility\n",
    "\n",
    "The Black-Scholes price of a call is given by,\n",
    "$$C = \\Phi(d_1) S - \\Phi(d_2) K e^{-r t},$$\n",
    "and the price of a put by,\n",
    "$$P = \\Phi(-d_2)e_{-rt} - \\Phi(-d_1)S,$$\n",
    "where\n",
    "$$d_1 = \\frac{1}{\\sigma \\sqrt{t}} \\left[ \\ln\\left(\\frac{S}{K}\\right) + \\left(r + \\frac{\\sigma.^2}{2}\\right) t\\right],$$\n",
    "and\n",
    "$$d_2 = d_1 - \\sigma \\sqrt{t}.$$"
   ]
  },
  {
   "cell_type": "code",
   "execution_count": 3,
   "metadata": {},
   "outputs": [],
   "source": [
    "def call_price(sigma, S, K, r, t):\n",
    "    d1 = np.multiply( 1. / sigma * np.divide(1., np.sqrt(t)),\n",
    "        np.log(S/K) + (r + sigma**2 / 2.) * t  )\n",
    "    d2 = d1 - sigma * np.sqrt(t)\n",
    "    \n",
    "    C = np.multiply(S, norm.cdf(d1)) - \\\n",
    "        np.multiply(norm.cdf(d2) * K, np.exp(-r * t))\n",
    "    return C, d1, d2\n",
    "\n",
    "def put_price(sigma, S, K, r, t):\n",
    "    d1 = np.multiply( 1. / sigma * np.divide(1., np.sqrt(t)),\n",
    "        np.log(S/K) + (r + sigma**2 / 2.) * t  )\n",
    "    d2 = d1 - sigma * np.sqrt(t)\n",
    "    \n",
    "    P = -np.multiply(S, norm.cdf(-d1)) + \\\n",
    "        np.multiply(norm.cdf(-d2) * K, np.exp(-r * t))\n",
    "    return P\n",
    "\n",
    "def call_objective_function(sigma, args):\n",
    "    S = args[0]\n",
    "    K = args[1]\n",
    "    r = args[2]\n",
    "    t = args[3]\n",
    "    price = args[4]\n",
    "    \n",
    "    return call_price(sigma, S, K, r, t) - price\n",
    "\n",
    "def put_objective_function(sigma, args):\n",
    "    S = args[0]\n",
    "    K = args[1]\n",
    "    r = args[2]\n",
    "    t = args[3]\n",
    "    price = args[4]\n",
    "    \n",
    "    return put_price(sigma, S, K, r, t) - price\n",
    "\n",
    "def calculate_vega(sigma, args):\n",
    "    S = args[0]\n",
    "    K = args[1]\n",
    "    r = args[2]\n",
    "    t = args[3]\n",
    "    \n",
    "    d1 = np.multiply( 1. / sigma * np.divide(1., np.sqrt(t)),\n",
    "        np.log(S/K) + (r + sigma**2 / 2.) * t  )\n",
    "    d2 = d1 - sigma * np.sqrt(t)\n",
    "    \n",
    "    return S * norm.pdf(d1) * np.sqrt(t)"
   ]
  },
  {
   "cell_type": "markdown",
   "metadata": {},
   "source": [
    "## Bachelier Model\n",
    "\n",
    "$$\n",
    "C = e^{-rt} \\left(Se^{rt}-K\\right)\n",
    "\\Phi\\left( \\frac{Se^{rt}-K}{ \\sqrt{\\frac{\\sigma^2}{2r}(e^{2rt} - 1)}} \\right) + \n",
    "e^{-rt}\\sqrt{\\frac{\\sigma^2}{2r}(e^{2rt} - 1)}\n",
    "\\phi\\left(  \\frac{Se^{rt}-K}{ \\sqrt{\\frac{\\sigma^2}{2r}(e^{2rt} - 1)}} \\right)\n",
    "$$\n",
    "\n",
    "Let's write this in a Python function."
   ]
  },
  {
   "cell_type": "code",
   "execution_count": 4,
   "metadata": {},
   "outputs": [],
   "source": [
    "def bachelier(sigma, S, K, r, t):\n",
    "    d = (S * np.exp(r*t) - K) / np.sqrt(sigma**2/(2 * r) * (np.exp(2*r*t)-1) )\n",
    "   \n",
    "    C = np.exp(-r * t) * (S * np.exp(r * t) - K) * norm.cdf(d) + \\\n",
    "        np.exp(-r * t) * np.sqrt(sigma**2/(2*r) * (np.exp(2*r*t)-1) ) * norm.pdf(d)\n",
    "\n",
    "    return C"
   ]
  },
  {
   "cell_type": "markdown",
   "metadata": {},
   "source": [
    "Now, let's look at the Bachelier and Black Scholes models over a range of stock prices fixing the other inputs as constants."
   ]
  },
  {
   "cell_type": "code",
   "execution_count": 5,
   "metadata": {},
   "outputs": [
    {
     "data": {
      "text/plain": [
       "Text(0, 0.5, 'Call Price ($)')"
      ]
     },
     "execution_count": 5,
     "metadata": {},
     "output_type": "execute_result"
    },
    {
     "data": {
      "image/png": "[encoded data removed]",
      "text/plain": [
       "<Figure size 432x288 with 1 Axes>"
      ]
     },
     "metadata": {
      "needs_background": "light"
     },
     "output_type": "display_data"
    }
   ],
   "source": [
    "t = 30 / 365    #  Time to expiration\n",
    "sigma = 0.30    #  Black Scholes implied volatility\n",
    "K = 105         #  Strike Price\n",
    "r = 0.01        #  Risk-free rate\n",
    "\n",
    "S = np.linspace(90, 110, 100)    # Let our stock price range between $90 and $110\n",
    "\n",
    "#  Calculate option prices based on both models\n",
    "C_bs, d1, d2 = call_price(sigma, S, K, r, t)\n",
    "C_ba = bachelier(sigma * S, S, K, r, t)\n",
    "\n",
    "#  Plot the results\n",
    "plt.plot(S, C_bs, 'k', label = 'Black Scholes')\n",
    "plt.plot(S, C_ba, 'b.', label = 'Bacheleier')\n",
    "plt.grid(True)\n",
    "plt.legend()\n",
    "plt.xlabel('Stock Price (4)')\n",
    "plt.ylabel('Call Price ($)')"
   ]
  },
  {
   "cell_type": "markdown",
   "metadata": {},
   "source": [
    "Let's calculate $\\Delta$ for the Bachelier model using a finite-difference technique to take the derivative.  Let's do this for an at-the-money call with a strike price of $105.  We'll keep the other parameters the same as above.\n",
    "\n",
    "We'll use,\n",
    "$$\\frac{dr}{dx} \\approx \\frac{f(x + \\epsilon) + f(x)}{\\epsilon}$$\n",
    "as our approximation for the derivative."
   ]
  },
  {
   "cell_type": "code",
   "execution_count": 6,
   "metadata": {},
   "outputs": [
    {
     "name": "stdout",
     "output_type": "stream",
     "text": [
      "Delta BS =  0.520958769045928\n",
      "Delta BA =  0.5038124020195767\n"
     ]
    }
   ],
   "source": [
    "t = 30 / 365\n",
    "sigma = 0.30\n",
    "K = 105\n",
    "r = 0.01\n",
    "S = 105\n",
    "\n",
    "#  For Black Scholes, we have a formula  for delta: Delta = norm.cds(d1)\n",
    "C_bs, d1, d2 = call_price(sigma, S, K, r, t)\n",
    "Delta_bs = norm.cdf(d1)\n",
    "print('Delta BS = ', Delta_bs)\n",
    "\n",
    "#  Set epsilon to a small number\n",
    "epsilon = 1e-6\n",
    "\n",
    "#  Calculate the call prices\n",
    "C1_ba = bachelier(sigma * S, S, K, r, t)\n",
    "C2_ba = bachelier(sigma * S, S + epsilon, K, r, t)\n",
    "\n",
    "#  Estimate Delta\n",
    "Delta_ba = (C2_ba - C1_ba) / epsilon\n",
    "print('Delta BA = ', Delta_ba)"
   ]
  },
  {
   "cell_type": "markdown",
   "metadata": {},
   "source": [
    "Here is out Newton's method code for root finding"
   ]
  },
  {
   "cell_type": "code",
   "execution_count": 7,
   "metadata": {},
   "outputs": [],
   "source": [
    "def newtons_method(f, fprime, R = 0, max_iter = 1000, tol=1e-3, args = [], debug = False):\n",
    "    count = 0\n",
    "    epsilon = 1\n",
    "    f_return = []\n",
    "    fprime_return = []\n",
    "    \n",
    "    while epsilon >= tol:\n",
    "        count += 1\n",
    "        if count >= max_iter:\n",
    "            print('Exiting on runaway loop.')\n",
    "            return (R, count)\n",
    "        \n",
    "        old_R = R\n",
    "        \n",
    "        function_value = f(R, args = args)\n",
    "        function_derivative = fprime(R, args = args)\n",
    "        ind = np.where(function_derivative <= 0)\n",
    "        ind = ind[0]\n",
    "       \n",
    "        R = -function_value / function_derivative + R\n",
    "        \n",
    "        if ind.size > 0:\n",
    "            R[ ind ] = R[ ind ] * 0.5 + R[ ind ]\n",
    "            \n",
    "        if np.isscalar(R):\n",
    "            epsilon = np.abs( (R - old_R) /old_R )\n",
    "        else:\n",
    "            epsilon = np.linalg.norm( R - old_R, np.Inf)\n",
    "        \n",
    "        if debug == True:\n",
    "            f_return.append(function_value)\n",
    "            fprime_return.append(function_derivative)\n",
    "        \n",
    "    return R, count, epsilon, function_value, function_derivative, f_return, fprime_return"
   ]
  },
  {
   "cell_type": "markdown",
   "metadata": {},
   "source": [
    "Let's define our objective function for the Bachelier model, and calculate vega using the same differecing technique we used above."
   ]
  },
  {
   "cell_type": "code",
   "execution_count": 8,
   "metadata": {},
   "outputs": [],
   "source": [
    "def call_ba_objective_function(sigma, args):\n",
    "    S = args[0]\n",
    "    K = args[1]\n",
    "    r = args[2]\n",
    "    t = args[3]\n",
    "    price = args[4]\n",
    "    \n",
    "    return bachelier(sigma, S, K, r, t) - price\n",
    "\n",
    "def calculate_vega_ba(sigma, args):\n",
    "    S = args[0]\n",
    "    K = args[1]\n",
    "    r = args[2]\n",
    "    t = args[3]\n",
    "    \n",
    "    epsilon = 1e-6\n",
    "    C1 = bachelier(sigma, S, K, r, t)\n",
    "    C2 = bachelier(sigma + epsilon, S, K, r, t)\n",
    "\n",
    "    return (C2 - C1) / epsilon\n",
    "    "
   ]
  },
  {
   "cell_type": "markdown",
   "metadata": {},
   "source": [
    "We'll see if we can reproduce the volatility used above.  In the case, the call price was $"
   ]
  },
  {
   "cell_type": "code",
   "execution_count": 9,
   "metadata": {},
   "outputs": [],
   "source": [
    "C0 = 3.6445730260768543\n",
    "S = 105\n",
    "K = 105\n",
    "r = 0.01\n",
    "t = 30/365\n",
    "\n",
    "args = (S, K, r, t, C0)\n",
    "\n",
    "R, count, epsilon, function_value, function_derivative, f_return, fprime_return = newtons_method(call_ba_objective_function, calculate_vega_ba, 0.5, args = args)"
   ]
  },
  {
   "cell_type": "code",
   "execution_count": 10,
   "metadata": {},
   "outputs": [
    {
     "name": "stdout",
     "output_type": "stream",
     "text": [
      "0.3000000000000008\n"
     ]
    }
   ],
   "source": [
    "print(R / S)"
   ]
  },
  {
   "cell_type": "markdown",
   "metadata": {},
   "source": [
    "##  Bachelier Price of a Put\n",
    "\n",
    "We already have an expression and coded up a function for the call price.  We can use put-call parity to find the price of a put option\n",
    "\n",
    "A common way to state put-call parity is,\n",
    "$$C - P = S - e^{-rt}K.$$ \n",
    "\n",
    "So if we know the price of a call, we can get the price of the corresponding put,\n",
    "$$P = C - S + e^{-rt}K.$$\n",
    "\n",
    "In the video, I started the stock price at 90 which was the same as our strike.  Below, I changed the price range from 50 to 110."
   ]
  },
  {
   "cell_type": "code",
   "execution_count": 11,
   "metadata": {},
   "outputs": [],
   "source": [
    "t = 30 / 365    #  Time to expiration\n",
    "sigma = 0.30    #  Black Scholes implied volatility\n",
    "K = 90          #  Strike Price\n",
    "r = 0.01        #  Risk-free rate\n",
    "\n",
    "S = np.linspace(50, 110, 100) "
   ]
  },
  {
   "cell_type": "code",
   "execution_count": 12,
   "metadata": {},
   "outputs": [
    {
     "data": {
      "text/plain": [
       "Text(0, 0.5, 'Call Price ($)')"
      ]
     },
     "execution_count": 12,
     "metadata": {},
     "output_type": "execute_result"
    },
    {
     "data": {
      "image/png": "[encoded data removed]",
      "text/plain": [
       "<Figure size 432x288 with 1 Axes>"
      ]
     },
     "metadata": {
      "needs_background": "light"
     },
     "output_type": "display_data"
    }
   ],
   "source": [
    "#  Calculate Black Schole put price\n",
    "P_bs = put_price(sigma, S, K, r, t)\n",
    "\n",
    "#  Calculate Bachelier call price\n",
    "C = bachelier(sigma * S, S, K, r, t)\n",
    "\n",
    "#Use put-call parity to calculate put price\n",
    "P = C - S + np.exp(-r * t) * K\n",
    "\n",
    "\n",
    "#  Plot the results\n",
    "plt.plot(S, P_bs, 'k', label = 'Black Scholes')\n",
    "plt.plot(S, P, 'b.', label = 'Bachelier')\n",
    "plt.grid(True)\n",
    "plt.legend()\n",
    "plt.xlabel('Stock Price (4)')\n",
    "plt.ylabel('Call Price ($)')"
   ]
  },
  {
   "cell_type": "markdown",
   "metadata": {},
   "source": [
    "## Bachelier Model\n",
    "\n",
    "$$\n",
    "C = e^{-rt} \\left(Se^{rt}-K\\right)\n",
    "\\Phi\\left( \\frac{Se^{rt}-K}{ \\sqrt{\\frac{\\sigma^2}{2r}(e^{2rt} - 1)}} \\right) + \n",
    "e^{-rt}\\sqrt{\\frac{\\sigma^2}{2r}(e^{2rt} - 1)}\n",
    "\\phi\\left(  \\frac{Se^{rt}-K}{ \\sqrt{\\frac{\\sigma^2}{2r}(e^{2rt} - 1)}} \\right)\n",
    "$$\n"
   ]
  },
  {
   "cell_type": "code",
   "execution_count": 13,
   "metadata": {},
   "outputs": [],
   "source": [
    "S = Symbol('S', real = True)\n",
    "K = Symbol('K', real = True)\n",
    "r = Symbol('r', real = True)\n",
    "t = Symbol('t', real = True)\n",
    "sigma = Symbol('sigma', real = True)"
   ]
  },
  {
   "cell_type": "markdown",
   "metadata": {},
   "source": [
    "The $d$ variable is the argument of the distribution functions.  I also explicity write our the normal cumulative distribution and density functions."
   ]
  },
  {
   "cell_type": "code",
   "execution_count": 14,
   "metadata": {},
   "outputs": [],
   "source": [
    "d = (S * exp(r*t) - K) / sqrt(sigma**2/(2*r) * (exp(2*r*t)-1) )\n",
    "\n",
    "CDF = 0.5 * (1 + erf(d/sqrt(2)) )\n",
    "PDF = 1/sqrt(2*pi) * exp(-0.5 * d**2)"
   ]
  },
  {
   "cell_type": "markdown",
   "metadata": {},
   "source": [
    "Write out the expression for the call."
   ]
  },
  {
   "cell_type": "code",
   "execution_count": 16,
   "metadata": {},
   "outputs": [
    {
     "data": {
      "image/png": "[encoded data removed]",
      "text/latex": [
       "$\\displaystyle \\frac{\\sqrt{\\frac{e^{2 r t} - 1}{r}} e^{- r t} e^{- \\frac{1.0 r \\left(- K + S e^{r t}\\right)^{2}}{\\sigma^{2} \\left(e^{2 r t} - 1\\right)}} \\left|{\\sigma}\\right|}{2 \\sqrt{\\pi}} + \\left(- K + S e^{r t}\\right) \\left(0.5 \\operatorname{erf}{\\left(\\frac{- K + S e^{r t}}{\\sqrt{\\frac{e^{2 r t} - 1}{r}} \\left|{\\sigma}\\right|} \\right)} + 0.5\\right) e^{- r t}$"
      ],
      "text/plain": [
       "                                             2                                \n",
       "                                ⎛        r⋅t⎞                                 \n",
       "                         -1.0⋅r⋅⎝-K + S⋅ℯ   ⎠                                 \n",
       "     ____________        ──────────────────────                               \n",
       "    ╱  2⋅r⋅t                 2 ⎛ 2⋅r⋅t    ⎞                                   \n",
       "   ╱  ℯ      - 1   -r⋅t     σ ⋅⎝ℯ      - 1⎠                                   \n",
       "  ╱   ────────── ⋅ℯ    ⋅ℯ                      ⋅│σ│                 ⎛       ⎛ \n",
       "╲╱        r                                           ⎛        r⋅t⎞ ⎜       ⎜ \n",
       "─────────────────────────────────────────────────── + ⎝-K + S⋅ℯ   ⎠⋅⎜0.5⋅erf⎜─\n",
       "                        2⋅√π                                        ⎜       ⎜ \n",
       "                                                                    ⎜       ⎜ \n",
       "                                                                    ⎜       ⎜ \n",
       "                                                                    ⎜       ⎜ \n",
       "                                                                    ⎝       ⎝╲\n",
       "\n",
       "                                  \n",
       "                                  \n",
       "                                  \n",
       "                                  \n",
       "                                  \n",
       "                                  \n",
       "            r⋅t     ⎞      ⎞      \n",
       "    -K + S⋅ℯ        ⎟      ⎟  -r⋅t\n",
       "────────────────────⎟ + 0.5⎟⋅ℯ    \n",
       "    ____________    ⎟      ⎟      \n",
       "   ╱  2⋅r⋅t         ⎟      ⎟      \n",
       "  ╱  ℯ      - 1     ⎟      ⎟      \n",
       " ╱   ────────── ⋅│σ│⎟      ⎟      \n",
       "╱        r          ⎠      ⎠      "
      ]
     },
     "metadata": {},
     "output_type": "display_data"
    }
   ],
   "source": [
    "C = exp(-r * t) * (S * exp(r*t) - K) * CDF + exp(-r*t) * sqrt(sigma**2/(2*r) * (exp(2*r*t) - 1)) * PDF\n",
    "display(C)"
   ]
  },
  {
   "cell_type": "markdown",
   "metadata": {},
   "source": [
    "We can use our expression and evaulate it numerically.  We pass in a list of tuples.  The first element of the tuple is the variable, and the second it the value."
   ]
  },
  {
   "cell_type": "code",
   "execution_count": 18,
   "metadata": {},
   "outputs": [
    {
     "data": {
      "image/png": "[encoded data removed]",
      "text/latex": [
       "$\\displaystyle 1.51835733362159$"
      ],
      "text/plain": [
       "1.51835733362159"
      ]
     },
     "execution_count": 18,
     "metadata": {},
     "output_type": "execute_result"
    }
   ],
   "source": [
    "C.subs( [(S, 100), (K, 105), (r, 0.01), (t, 30/365), (sigma, 0.3 * 100) ] ).evalf()"
   ]
  },
  {
   "cell_type": "markdown",
   "metadata": {},
   "source": [
    "$\\Delta$ is the dderivative of the option price with respect to the underlying's price.  Sympy can do that symbolically with the diff command."
   ]
  },
  {
   "cell_type": "code",
   "execution_count": 19,
   "metadata": {},
   "outputs": [
    {
     "data": {
      "image/png": "[encoded data removed]",
      "text/latex": [
       "$\\displaystyle - \\frac{1.0 r \\sqrt{\\frac{e^{2 r t} - 1}{r}} \\left(- K + S e^{r t}\\right) e^{- \\frac{1.0 r \\left(- K + S e^{r t}\\right)^{2}}{\\sigma^{2} \\left(e^{2 r t} - 1\\right)}} \\left|{\\sigma}\\right|}{\\sqrt{\\pi} \\sigma^{2} \\left(e^{2 r t} - 1\\right)} + 0.5 \\operatorname{erf}{\\left(\\frac{- K + S e^{r t}}{\\sqrt{\\frac{e^{2 r t} - 1}{r}} \\left|{\\sigma}\\right|} \\right)} + 0.5 + \\frac{1.0 \\left(- K + S e^{r t}\\right) e^{- \\frac{r \\left(- K + S e^{r t}\\right)^{2}}{\\sigma^{2} \\left(e^{2 r t} - 1\\right)}}}{\\sqrt{\\pi} \\sqrt{\\frac{e^{2 r t} - 1}{r}} \\left|{\\sigma}\\right|}$"
      ],
      "text/plain": [
       "                                                             2                \n",
       "                                                ⎛        r⋅t⎞                 \n",
       "                                         -1.0⋅r⋅⎝-K + S⋅ℯ   ⎠                 \n",
       "             ____________                ──────────────────────               \n",
       "            ╱  2⋅r⋅t                         2 ⎛ 2⋅r⋅t    ⎞                   \n",
       "           ╱  ℯ      - 1  ⎛        r⋅t⎞     σ ⋅⎝ℯ      - 1⎠                   \n",
       "  1.0⋅r⋅  ╱   ────────── ⋅⎝-K + S⋅ℯ   ⎠⋅ℯ                      ⋅│σ│          ⎛\n",
       "        ╲╱        r                                                          ⎜\n",
       "- ───────────────────────────────────────────────────────────────── + 0.5⋅erf⎜\n",
       "                              2 ⎛ 2⋅r⋅t    ⎞                                 ⎜\n",
       "                          √π⋅σ ⋅⎝ℯ      - 1⎠                                 ⎜\n",
       "                                                                             ⎜\n",
       "                                                                             ⎜\n",
       "                                                                             ⎝\n",
       "\n",
       "                                                                    \n",
       "                                                                  2 \n",
       "                                                     ⎛        r⋅t⎞  \n",
       "                                                  -r⋅⎝-K + S⋅ℯ   ⎠  \n",
       "                                                  ──────────────────\n",
       "                                                    2 ⎛ 2⋅r⋅t    ⎞  \n",
       "             r⋅t     ⎞             ⎛        r⋅t⎞   σ ⋅⎝ℯ      - 1⎠  \n",
       "     -K + S⋅ℯ        ⎟         1.0⋅⎝-K + S⋅ℯ   ⎠⋅ℯ                  \n",
       "─────────────────────⎟ + 0.5 + ─────────────────────────────────────\n",
       "     ____________    ⎟                        ____________          \n",
       "    ╱  2⋅r⋅t         ⎟                       ╱  2⋅r⋅t               \n",
       "   ╱  ℯ      - 1     ⎟                      ╱  ℯ      - 1           \n",
       "  ╱   ────────── ⋅│σ│⎟                √π⋅  ╱   ────────── ⋅│σ│      \n",
       "╲╱        r          ⎠                   ╲╱        r                "
      ]
     },
     "metadata": {},
     "output_type": "display_data"
    }
   ],
   "source": [
    "Delta = diff(C, S)\n",
    "display(Delta)"
   ]
  },
  {
   "cell_type": "code",
   "execution_count": 20,
   "metadata": {},
   "outputs": [
    {
     "data": {
      "image/png": "[encoded data removed]",
      "text/latex": [
       "$\\displaystyle 0.283813249572411$"
      ],
      "text/plain": [
       "0.283813249572411"
      ]
     },
     "execution_count": 20,
     "metadata": {},
     "output_type": "execute_result"
    }
   ],
   "source": [
    "Delta.subs( [(S, 100), (K, 105), (r, 0.01), (t, 30/365), (sigma, 0.3 * 100) ] ).evalf()"
   ]
  },
  {
   "cell_type": "code",
   "execution_count": null,
   "metadata": {},
   "outputs": [],
   "source": []
  }
 ],
 "metadata": {
  "kernelspec": {
   "display_name": "Python 3",
   "language": "python",
   "name": "python3"
  },
  "language_info": {
   "codemirror_mode": {
    "name": "ipython",
    "version": 3
   },
   "file_extension": ".py",
   "mimetype": "text/x-python",
   "name": "python",
   "nbconvert_exporter": "python",
   "pygments_lexer": "ipython3",
   "version": "3.8.3"
  }
 },
 "nbformat": 4,
 "nbformat_minor": 2
}
